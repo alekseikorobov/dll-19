{
 "cells": [
  {
   "cell_type": "code",
   "execution_count": 1,
   "metadata": {},
   "outputs": [
    {
     "data": {
      "text/plain": [
       "[<matplotlib.lines.Line2D at 0x21cf1248910>]"
      ]
     },
     "execution_count": 1,
     "metadata": {},
     "output_type": "execute_result"
    },
    {
     "data": {
      "image/png": "[encoded data removed]",
      "text/plain": [
       "<Figure size 432x288 with 1 Axes>"
      ]
     },
     "metadata": {
      "needs_background": "light"
     },
     "output_type": "display_data"
    }
   ],
   "source": [
    "import matplotlib.pyplot as plt\n",
    "plt.plot([1])"
   ]
  },
  {
   "cell_type": "code",
   "execution_count": 71,
   "metadata": {},
   "outputs": [
    {
     "name": "stdout",
     "output_type": "stream",
     "text": [
      "self.all_param_list 1\n",
      "get_word_formated_list...\n"
     ]
    },
    {
     "name": "stderr",
     "output_type": "stream",
     "text": [
      "1it [00:00, 1096.26it/s]"
     ]
    },
    {
     "name": "stdout",
     "output_type": "stream",
     "text": [
      "get_max_pix_size...\n",
      "get_max_pix_size_from_param...\n",
      "1,1\n"
     ]
    },
    {
     "name": "stderr",
     "output_type": "stream",
     "text": [
      "\n"
     ]
    },
    {
     "data": {
      "text/plain": [
       "<matplotlib.image.AxesImage at 0x7f2acd0a7be0>"
      ]
     },
     "execution_count": 71,
     "metadata": {},
     "output_type": "execute_result"
    },
    {
     "data": {
      "image/png": "[encoded data removed]",
      "text/plain": [
       "<Figure size 432x288 with 1 Axes>"
      ]
     },
     "metadata": {
      "needs_background": "light"
     },
     "output_type": "display_data"
    }
   ],
   "source": [
    "import importlib, sys\n",
    "import MyGenerator.ImageGenerator as ig\n",
    "import  MyGenerator.TorchTextDict as ttd\n",
    "importlib.reload(ig)\n",
    "importlib.reload(ttd)\n",
    "\n",
    "import MyDatasetRec\n",
    "importlib.reload(MyDatasetRec)\n",
    "\n",
    "# for module in sys.modules.values():\n",
    "#     importlib.reload(module)\n",
    "\n",
    "from MyDatasetRec import MyDatasetRec\n",
    "from torch.utils.data import DataLoader\n",
    "from config_rec import all_alph\n",
    "\n",
    "conf = {\n",
    "    'fonts':[\"example/TextBPNPlusPlus/dataset/MyGenerator/font.ttf\"],\n",
    "    'is_crop':[True],\n",
    "    'texts':[\n",
    "        '''0123'''\n",
    "    ],\n",
    "    'size_images':[(160,32)],\n",
    "    'is_scale':[True],\n",
    "    'font_sizes':[8]\n",
    "    \n",
    "}\n",
    "i = ig.ImageGenerator([conf])\n",
    "\n",
    "#dataset = MyDatasetRec([conf],all_alph, is_train = False)\n",
    "#print(f'{len(dataset)=}')\n",
    "#loader = DataLoader(dataset, batch_size=1, shuffle=True)\n",
    "ims, _,texts = i.get_by_index(0)\n",
    "print(f'{len(ims)},{len(texts)}')\n",
    "\n",
    "import matplotlib.pyplot as plt\n",
    "%matplotlib inline\n",
    "#plt.plot([1])\n",
    "\n",
    "plt.imshow(ims[0])"
   ]
  },
  {
   "cell_type": "code",
   "execution_count": 10,
   "metadata": {},
   "outputs": [
    {
     "data": {
      "text/plain": [
       "torch.Size([1, 3, 32, 160])"
      ]
     },
     "execution_count": 10,
     "metadata": {},
     "output_type": "execute_result"
    }
   ],
   "source": [
    "im.shape"
   ]
  },
  {
   "cell_type": "code",
   "execution_count": 11,
   "metadata": {},
   "outputs": [
    {
     "data": {
      "text/plain": [
       "tensor([84, 95, 74, 96, 42,  0,  0,  0,  0,  0,  0,  0,  0,  0,  0,  0,  0,  0,\n",
       "         0,  0,  0,  0,  0,  0,  0,  0,  0,  0,  0,  0,  0,  0,  0,  0,  0,  0,\n",
       "         0,  0,  0,  0,  0,  0,  0,  0,  0,  0,  0,  0,  0,  0,  0,  0,  0,  0,\n",
       "         0,  0,  0,  0,  0,  0,  0,  0,  0,  0,  0,  0,  0,  0,  0,  0,  0,  0,\n",
       "         0,  0,  0,  0,  0,  0,  0,  0,  0,  0,  0,  0,  0,  0,  0,  0,  0,  0,\n",
       "         0,  0,  0,  0,  0,  0,  0,  0,  0,  0], dtype=torch.int32)"
      ]
     },
     "execution_count": 11,
     "metadata": {},
     "output_type": "execute_result"
    }
   ],
   "source": [
    "l[0]"
   ]
  },
  {
   "cell_type": "code",
   "execution_count": 13,
   "metadata": {},
   "outputs": [
    {
     "data": {
      "text/plain": [
       "'всем,'"
      ]
     },
     "execution_count": 13,
     "metadata": {},
     "output_type": "execute_result"
    }
   ],
   "source": [
    "dataset.torch_text_dict.get_label(l[0])"
   ]
  },
  {
   "cell_type": "code",
   "execution_count": 16,
   "metadata": {},
   "outputs": [
    {
     "data": {
      "text/plain": [
       "<matplotlib.image.AxesImage at 0x7f2ad56f00a0>"
      ]
     },
     "execution_count": 16,
     "metadata": {},
     "output_type": "execute_result"
    },
    {
     "data": {
      "image/png": "[encoded data removed]",
      "text/plain": [
       "<Figure size 432x288 with 1 Axes>"
      ]
     },
     "metadata": {
      "needs_background": "light"
     },
     "output_type": "display_data"
    }
   ],
   "source": [
    "import matplotlib.pyplot as plt\n",
    "%matplotlib inline\n",
    "#plt.plot([1])\n",
    "\n",
    "plt.imshow(im[0].permute(1,2,0).numpy())"
   ]
  },
  {
   "cell_type": "code",
   "execution_count": 24,
   "metadata": {},
   "outputs": [
    {
     "name": "stderr",
     "output_type": "stream",
     "text": [
      "100%|██████████| 1/1 [00:00<00:00, 982.27it/s]\n"
     ]
    },
    {
     "data": {
      "image/png": "[encoded data removed]",
      "text/plain": [
       "<Figure size 432x288 with 1 Axes>"
      ]
     },
     "metadata": {
      "needs_background": "light"
     },
     "output_type": "display_data"
    }
   ],
   "source": [
    "import torchvision\n",
    "from MyDatasetRec import MyTruncateTransform,MyDatasetRec\n",
    "from config_rec import all_alph\n",
    "from torch.utils.data import DataLoader\n",
    "\n",
    "conf = {\n",
    "    'fonts':[\"example/TextBPNPlusPlus/dataset/MyGenerator/font.ttf\"],\n",
    "    'is_crop':[True],\n",
    "    'texts':\n",
    "        '''7'''.split(' ')\n",
    "    \n",
    "    , 'is_simple_text':[True]\n",
    "    , 'font_sizes':[12]\n",
    "    , 'scale_size':[(None, 10)]\n",
    "    , 'is_scale':[True]\n",
    "    , 'size_images':[(160,32)]\n",
    "}\n",
    "use_my_transform = True\n",
    "my_trans = MyTruncateTransform()\n",
    "dataset = MyDatasetRec([conf],all_alph, use_my_transform = use_my_transform)\n",
    "loader = DataLoader(dataset, batch_size=2, shuffle=False)\n",
    "to_image = torchvision.transforms.ToPILImage()\n",
    "for im, l in loader:\n",
    "    #print(f'{im.shape=}')\n",
    "    for im1,l1 in zip(im, l):\n",
    "        #print(f'before {im1[0][0]=}')\n",
    "        if use_my_transform:\n",
    "            im1 = my_trans(im1)\n",
    "        #print(f'after {im1[0][0]=}')\n",
    "        img = to_image(im1)\n",
    "        plt.imshow(img)\n",
    "        \n",
    "    break"
   ]
  },
  {
   "cell_type": "code",
   "execution_count": 2,
   "metadata": {},
   "outputs": [
    {
     "name": "stdout",
     "output_type": "stream",
     "text": [
      "['одной', 'using', 'public']\n",
      "WARN: path not exists - example/TextBPNPlusPlus/data/onegin.txt\n",
      "all - len(texts)=13835\n"
     ]
    },
    {
     "name": "stderr",
     "output_type": "stream",
     "text": [
      "c:\\Users\\akorobov\\Envs\\torch\\lib\\site-packages\\scipy\\__init__.py:146: UserWarning: A NumPy version >=1.16.5 and <1.23.0 is required for this version of SciPy (detected version 1.24.2\n",
      "  warnings.warn(f\"A NumPy version >={np_minversion} and <{np_maxversion}\"\n",
      "100%|██████████| 1/1 [00:00<00:00, 1073.54it/s]\n"
     ]
    },
    {
     "name": "stdout",
     "output_type": "stream",
     "text": [
      "im.shape=torch.Size([1, 3, 10, 160])\n",
      "before im1[0][0]=tensor([255., 255., 205.,  17., 207., 255., 255.,  -1.,  -1.,  -1.,  -1.,  -1.,\n",
      "         -1.,  -1.,  -1.,  -1.,  -1.,  -1.,  -1.,  -1.,  -1.,  -1.,  -1.,  -1.,\n",
      "         -1.,  -1.,  -1.,  -1.,  -1.,  -1.,  -1.,  -1.,  -1.,  -1.,  -1.,  -1.,\n",
      "         -1.,  -1.,  -1.,  -1.,  -1.,  -1.,  -1.,  -1.,  -1.,  -1.,  -1.,  -1.,\n",
      "         -1.,  -1.,  -1.,  -1.,  -1.,  -1.,  -1.,  -1.,  -1.,  -1.,  -1.,  -1.,\n",
      "         -1.,  -1.,  -1.,  -1.,  -1.,  -1.,  -1.,  -1.,  -1.,  -1.,  -1.,  -1.,\n",
      "         -1.,  -1.,  -1.,  -1.,  -1.,  -1.,  -1.,  -1.,  -1.,  -1.,  -1.,  -1.,\n",
      "         -1.,  -1.,  -1.,  -1.,  -1.,  -1.,  -1.,  -1.,  -1.,  -1.,  -1.,  -1.,\n",
      "         -1.,  -1.,  -1.,  -1.,  -1.,  -1.,  -1.,  -1.,  -1.,  -1.,  -1.,  -1.,\n",
      "         -1.,  -1.,  -1.,  -1.,  -1.,  -1.,  -1.,  -1.,  -1.,  -1.,  -1.,  -1.,\n",
      "         -1.,  -1.,  -1.,  -1.,  -1.,  -1.,  -1.,  -1.,  -1.,  -1.,  -1.,  -1.,\n",
      "         -1.,  -1.,  -1.,  -1.,  -1.,  -1.,  -1.,  -1.,  -1.,  -1.,  -1.,  -1.,\n",
      "         -1.,  -1.,  -1.,  -1.,  -1.,  -1.,  -1.,  -1.,  -1.,  -1.,  -1.,  -1.,\n",
      "         -1.,  -1.,  -1.,  -1.])\n",
      "after im1[0][0]=tensor([255, 255, 205,  17, 207, 255, 255], dtype=torch.uint8)\n"
     ]
    },
    {
     "data": {
      "image/png": "[encoded data removed]",
      "text/plain": [
       "<Figure size 432x288 with 1 Axes>"
      ]
     },
     "metadata": {
      "needs_background": "light"
     },
     "output_type": "display_data"
    }
   ],
   "source": [
    "import torchvision\n",
    "from MyDatasetRec import MyTruncateTransform,MyDatasetRec\n",
    "from config_rec import all_alph\n",
    "from torch.utils.data import DataLoader\n",
    "\n",
    "conf = {\n",
    "    'fonts':[\"example/TextBPNPlusPlus/dataset/MyGenerator/font.ttf\"],\n",
    "    'is_crop':[True],\n",
    "    'texts':\n",
    "        '''1'''.split(' ')\n",
    "    \n",
    "    , 'is_simple_text':[True]\n",
    "    , 'font_sizes':[12]\n",
    "    , 'scale_size':[(None, 10)]\n",
    "    , 'is_scale':[True]\n",
    "    , 'size_images':[(160,32)]\n",
    "}\n",
    "use_my_transform = True\n",
    "my_trans = MyTruncateTransform()\n",
    "dataset = MyDatasetRec([conf],all_alph, use_my_transform = use_my_transform)\n",
    "loader = DataLoader(dataset, batch_size=2, shuffle=False)\n",
    "to_image = torchvision.transforms.ToPILImage()\n",
    "for im, l in loader:\n",
    "    print(f'{im.shape=}')\n",
    "    for im1,l1 in zip(im, l):\n",
    "        print(f'before {im1[0][0]=}')\n",
    "        if use_my_transform:\n",
    "            im1 = my_trans(im1)\n",
    "        print(f'after {im1[0][0]=}')\n",
    "        img = to_image(im1)\n",
    "        plt.imshow(img)\n",
    "        \n",
    "    break"
   ]
  }
 ],
 "metadata": {
  "kernelspec": {
   "display_name": "torch",
   "language": "python",
   "name": "python3"
  },
  "language_info": {
   "codemirror_mode": {
    "name": "ipython",
    "version": 3
   },
   "file_extension": ".py",
   "mimetype": "text/x-python",
   "name": "python",
   "nbconvert_exporter": "python",
   "pygments_lexer": "ipython3",
   "version": "3.9.12"
  },
  "orig_nbformat": 4,
  "vscode": {
   "interpreter": {
    "hash": "58d78f71de504bd4b03c65a70bc48880aedd0b66d9a293132d2983cd4432c6ac"
   }
  }
 },
 "nbformat": 4,
 "nbformat_minor": 2
}
