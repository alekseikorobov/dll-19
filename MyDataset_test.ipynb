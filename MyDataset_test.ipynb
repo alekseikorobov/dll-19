{
 "cells": [
  {
   "cell_type": "code",
   "execution_count": 1,
   "metadata": {},
   "outputs": [
    {
     "data": {
      "text/plain": [
       "[<matplotlib.lines.Line2D at 0x7efc921d3430>]"
      ]
     },
     "execution_count": 1,
     "metadata": {},
     "output_type": "execute_result"
    },
    {
     "data": {
      "image/png": "[encoded data removed]",
      "text/plain": [
       "<Figure size 432x288 with 1 Axes>"
      ]
     },
     "metadata": {
      "needs_background": "light"
     },
     "output_type": "display_data"
    }
   ],
   "source": [
    "import matplotlib.pyplot as plt\n",
    "plt.plot([1])"
   ]
  },
  {
   "cell_type": "code",
   "execution_count": 113,
   "metadata": {},
   "outputs": [
    {
     "name": "stderr",
     "output_type": "stream",
     "text": [
      "  1%|▏         | 72/5652 [00:09<12:42,  7.32it/s]\n"
     ]
    },
    {
     "ename": "KeyboardInterrupt",
     "evalue": "",
     "output_type": "error",
     "traceback": [
      "\u001b[0;31m---------------------------------------------------------------------------\u001b[0m",
      "\u001b[0;31mKeyboardInterrupt\u001b[0m                         Traceback (most recent call last)",
      "Cell \u001b[0;32mIn[113], line 11\u001b[0m\n\u001b[1;32m      8\u001b[0m \u001b[39mfrom\u001b[39;00m \u001b[39mexample\u001b[39;00m\u001b[39m.\u001b[39;00m\u001b[39mTextBPNPlusPlus\u001b[39;00m\u001b[39m.\u001b[39;00m\u001b[39mdataset\u001b[39;00m\u001b[39m.\u001b[39;00m\u001b[39mMyGenerator\u001b[39;00m\u001b[39m.\u001b[39;00m\u001b[39mImageGenerator\u001b[39;00m \u001b[39mimport\u001b[39;00m ImageGenerator\n\u001b[1;32m     10\u001b[0m \u001b[39m#print(conf)\u001b[39;00m\n\u001b[0;32m---> 11\u001b[0m generator \u001b[39m=\u001b[39m ImageGenerator(configuration)\n\u001b[1;32m     13\u001b[0m \u001b[39mprint\u001b[39m(\u001b[39mf\u001b[39m\u001b[39m'\u001b[39m\u001b[39m{\u001b[39;00mgenerator\u001b[39m.\u001b[39msize\u001b[39m=}\u001b[39;00m\u001b[39m'\u001b[39m)\n\u001b[1;32m     15\u001b[0m img,box,text \u001b[39m=\u001b[39m generator\u001b[39m.\u001b[39mget_by_index(\u001b[39m0\u001b[39m)\n",
      "File \u001b[0;32m~/MyProject/netology/dll-19/diplom/example/TextBPNPlusPlus/dataset/MyGenerator/ImageGenerator.py:82\u001b[0m, in \u001b[0;36mImageGenerator.__init__\u001b[0;34m(self, confs)\u001b[0m\n\u001b[1;32m     79\u001b[0m     \u001b[39mself\u001b[39m\u001b[39m.\u001b[39mall_param_list\u001b[39m.\u001b[39mextend(\u001b[39mlist\u001b[39m(\u001b[39mself\u001b[39m\u001b[39m.\u001b[39mall_data))\n\u001b[1;32m     80\u001b[0m \u001b[39m#print(f'self.all_param_list {len(self.all_param_list)}')\u001b[39;00m\n\u001b[1;32m     81\u001b[0m \u001b[39m#print('get_word_formated_list...')\u001b[39;00m\n\u001b[0;32m---> 82\u001b[0m \u001b[39mself\u001b[39m\u001b[39m.\u001b[39mword_formated_list \u001b[39m=\u001b[39m \u001b[39mself\u001b[39;49m\u001b[39m.\u001b[39;49mget_word_formated_list()\n\u001b[1;32m     84\u001b[0m \u001b[39m#print('get_max_pix_size...')\u001b[39;00m\n\u001b[1;32m     85\u001b[0m \u001b[39mself\u001b[39m\u001b[39m.\u001b[39mmax_pix_size_width, \u001b[39mself\u001b[39m\u001b[39m.\u001b[39mmax_pix_size_height \u001b[39m=\u001b[39m \u001b[39mself\u001b[39m\u001b[39m.\u001b[39mget_max_pix_size()\n",
      "File \u001b[0;32m~/MyProject/netology/dll-19/diplom/example/TextBPNPlusPlus/dataset/MyGenerator/ImageGenerator.py:143\u001b[0m, in \u001b[0;36mImageGenerator.get_word_formated_list\u001b[0;34m(self)\u001b[0m\n\u001b[1;32m    140\u001b[0m \u001b[39mif\u001b[39;00m word \u001b[39m==\u001b[39m \u001b[39m'\u001b[39m\u001b[39m'\u001b[39m: \u001b[39mcontinue\u001b[39;00m                \n\u001b[1;32m    141\u001b[0m image_font \u001b[39m=\u001b[39m \u001b[39mself\u001b[39m\u001b[39m.\u001b[39mget_image_font(params, \u001b[39mformat\u001b[39m)\n\u001b[1;32m    142\u001b[0m \u001b[39mformat\u001b[39m\u001b[39m.\u001b[39mpix_size_width \u001b[39m=\u001b[39m \u001b[39msum\u001b[39m(\n\u001b[0;32m--> 143\u001b[0m     [\u001b[39mself\u001b[39m\u001b[39m.\u001b[39m_compute_character_width(image_font, p)\n\u001b[1;32m    144\u001b[0m     \u001b[39mfor\u001b[39;00m p \u001b[39min\u001b[39;00m word\u001b[39m.\u001b[39mstrip() ]\n\u001b[1;32m    145\u001b[0m )\n\u001b[1;32m    146\u001b[0m bbox \u001b[39m=\u001b[39m image_font\u001b[39m.\u001b[39mgetbbox(word)\n\u001b[1;32m    147\u001b[0m \u001b[39mformat\u001b[39m\u001b[39m.\u001b[39mpix_size_height \u001b[39m=\u001b[39m bbox[\u001b[39m3\u001b[39m]\n",
      "File \u001b[0;32m~/MyProject/netology/dll-19/diplom/example/TextBPNPlusPlus/dataset/MyGenerator/ImageGenerator.py:143\u001b[0m, in \u001b[0;36m<listcomp>\u001b[0;34m(.0)\u001b[0m\n\u001b[1;32m    140\u001b[0m \u001b[39mif\u001b[39;00m word \u001b[39m==\u001b[39m \u001b[39m'\u001b[39m\u001b[39m'\u001b[39m: \u001b[39mcontinue\u001b[39;00m                \n\u001b[1;32m    141\u001b[0m image_font \u001b[39m=\u001b[39m \u001b[39mself\u001b[39m\u001b[39m.\u001b[39mget_image_font(params, \u001b[39mformat\u001b[39m)\n\u001b[1;32m    142\u001b[0m \u001b[39mformat\u001b[39m\u001b[39m.\u001b[39mpix_size_width \u001b[39m=\u001b[39m \u001b[39msum\u001b[39m(\n\u001b[0;32m--> 143\u001b[0m     [\u001b[39mself\u001b[39;49m\u001b[39m.\u001b[39;49m_compute_character_width(image_font, p)\n\u001b[1;32m    144\u001b[0m     \u001b[39mfor\u001b[39;00m p \u001b[39min\u001b[39;00m word\u001b[39m.\u001b[39mstrip() ]\n\u001b[1;32m    145\u001b[0m )\n\u001b[1;32m    146\u001b[0m bbox \u001b[39m=\u001b[39m image_font\u001b[39m.\u001b[39mgetbbox(word)\n\u001b[1;32m    147\u001b[0m \u001b[39mformat\u001b[39m\u001b[39m.\u001b[39mpix_size_height \u001b[39m=\u001b[39m bbox[\u001b[39m3\u001b[39m]\n",
      "File \u001b[0;32m~/MyProject/netology/dll-19/diplom/example/TextBPNPlusPlus/dataset/MyGenerator/ImageGenerator.py:184\u001b[0m, in \u001b[0;36mImageGenerator._compute_character_width\u001b[0;34m(self, image_font, character)\u001b[0m\n\u001b[1;32m    182\u001b[0m     \u001b[39mreturn\u001b[39;00m \u001b[39m0\u001b[39m\n\u001b[1;32m    183\u001b[0m \u001b[39m# Casting as int to preserve the old behavior\u001b[39;00m\n\u001b[0;32m--> 184\u001b[0m \u001b[39mreturn\u001b[39;00m \u001b[39mround\u001b[39m(image_font\u001b[39m.\u001b[39;49mgetlength(character))\n",
      "File \u001b[0;32m~/.virtualenvs/ml/lib/python3.8/site-packages/PIL/ImageFont.py:362\u001b[0m, in \u001b[0;36mFreeTypeFont.getlength\u001b[0;34m(self, text, mode, direction, features, language)\u001b[0m\n\u001b[1;32m    287\u001b[0m \u001b[39mdef\u001b[39;00m \u001b[39mgetlength\u001b[39m(\u001b[39mself\u001b[39m, text, mode\u001b[39m=\u001b[39m\u001b[39m\"\u001b[39m\u001b[39m\"\u001b[39m, direction\u001b[39m=\u001b[39m\u001b[39mNone\u001b[39;00m, features\u001b[39m=\u001b[39m\u001b[39mNone\u001b[39;00m, language\u001b[39m=\u001b[39m\u001b[39mNone\u001b[39;00m):\n\u001b[1;32m    288\u001b[0m \u001b[39m    \u001b[39m\u001b[39m\"\"\"\u001b[39;00m\n\u001b[1;32m    289\u001b[0m \u001b[39m    Returns length (in pixels with 1/64 precision) of given text when rendered\u001b[39;00m\n\u001b[1;32m    290\u001b[0m \u001b[39m    in font with provided direction, features, and language.\u001b[39;00m\n\u001b[0;32m   (...)\u001b[0m\n\u001b[1;32m    360\u001b[0m \u001b[39m    :return: Width for horizontal, height for vertical text.\u001b[39;00m\n\u001b[1;32m    361\u001b[0m \u001b[39m    \"\"\"\u001b[39;00m\n\u001b[0;32m--> 362\u001b[0m     \u001b[39mreturn\u001b[39;00m \u001b[39mself\u001b[39;49m\u001b[39m.\u001b[39;49mfont\u001b[39m.\u001b[39;49mgetlength(text, mode, direction, features, language) \u001b[39m/\u001b[39m \u001b[39m64\u001b[39m\n",
      "\u001b[0;31mKeyboardInterrupt\u001b[0m: "
     ]
    }
   ],
   "source": [
    "import numpy as np\n",
    "import importlib\n",
    "from config_rec import all_alph\n",
    "import  train_config_400_1 as conf\n",
    "from  util.my_utils import image_box_show\n",
    "importlib.reload(conf)\n",
    "from train_config_400_1 import configuration\n",
    "from MyGenerator.ImageGenerator import ImageGenerator\n",
    "\n",
    "#print(conf)\n",
    "generator = ImageGenerator(configuration)\n",
    "\n",
    "print(f'{generator.size=}')\n",
    "\n",
    "img,box,text = generator.get_by_index(0)\n",
    "\n",
    "img = image_box_show(img,box)\n",
    "\n",
    "plt.figure(figsize=(10,10))\n",
    "plt.imshow(np.asarray(img))"
   ]
  },
  {
   "cell_type": "code",
   "execution_count": null,
   "metadata": {},
   "outputs": [],
   "source": []
  },
  {
   "cell_type": "code",
   "execution_count": null,
   "metadata": {},
   "outputs": [],
   "source": []
  }
 ],
 "metadata": {
  "kernelspec": {
   "display_name": "ml",
   "language": "python",
   "name": "python3"
  },
  "language_info": {
   "codemirror_mode": {
    "name": "ipython",
    "version": 3
   },
   "file_extension": ".py",
   "mimetype": "text/x-python",
   "name": "python",
   "nbconvert_exporter": "python",
   "pygments_lexer": "ipython3",
   "version": "3.8.10"
  },
  "orig_nbformat": 4
 },
 "nbformat": 4,
 "nbformat_minor": 2
}
