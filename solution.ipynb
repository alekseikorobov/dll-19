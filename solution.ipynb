{
 "cells": [
  {
   "cell_type": "markdown",
   "metadata": {},
   "source": [
    "пример1:\n",
    "- ПОСТАНОВКА ЗАДАЧИ\n",
    "- АНАЛИЗ ДАННЫХ\n",
    "    - Описание данных\n",
    "    - Разведочный анализ данных\n",
    "- МЕТОДИКА РЕАЛИЗАЦИИ\n",
    "    - Проведенные эксперименты\n",
    "    - Полученные результаты\n",
    "- ВЫВОДЫ\n",
    "\n",
    "пример2:\n",
    "- Постановка задачи\n",
    "- Анализ\n",
    "- Предварительный анализ данных\n",
    "- Методика решения\n",
    "    - Популярные архитектуры\n",
    "    - сравнение двух\n",
    "- Результаты и дальнейшие шаги"
   ]
  },
  {
   "cell_type": "markdown",
   "metadata": {},
   "source": [
    "- Постановка задачи\n",
    "- Описание задачи\n",
    "- Существующие решения\n",
    "- Методика реализации\n",
    "- Получение данных"
   ]
  },
  {
   "cell_type": "markdown",
   "metadata": {},
   "source": [
    "\n",
    "### [Мой research](research_solution.ipynb)"
   ]
  },
  {
   "cell_type": "markdown",
   "metadata": {},
   "source": [
    "## Сравнение существующих решений"
   ]
  },
  {
   "cell_type": "markdown",
   "metadata": {},
   "source": [
    "## ВЫБОР МОДЕЛИ Детекции\n",
    "\n",
    "- сравнение тут - https://arxiv.org/abs/2210.07903\n",
    "- DPText-DETR - не получилось реализовать\n",
    "- TextBPN++ - https://arxiv.org/abs/2205.05320"
   ]
  },
  {
   "cell_type": "markdown",
   "metadata": {},
   "source": [
    "## Реализация модели детекции\n",
    "\n",
    "- проблема с данными\n",
    "- проблема с использованием моделей\n",
    "- пример моей генерации - [im_font_800x800_771_62.jpg](example/TextBPN-Plus-Plus/data/MyDataset/Images/im_font_800x800_771_62.jpg)\n",
    "- детекция с использованием **MLT2019** [example/TextBPN-Plus-Plus/vis/MyDataset_test_MLT2019/0.jpg](example/TextBPN-Plus-Plus/vis/MyDataset_test_MLT2019/0.jpg)\n",
    "- обучение с нуля на небольшом количестве картинок маленького размера (200 эпох) - [MyDataset_test_copy/1.jpg](example/TextBPN-Plus-Plus/vis/MyDataset_test_copy/1.jpg)\n",
    "    - пример на большой картинке [MyDataset_test_cpoy2/0.jpg](example/TextBPN-Plus-Plus/vis/MyDataset_test_cpoy2/0.jpg)\n",
    "- обучение с нуля на большом количестве картинок разного размера (20 эпох)\n",
    "    - пример 1 [MyDataset_test_after_4200/0.jpg](example/TextBPN-Plus-Plus/vis/MyDataset_test_after_4200/0.jpg)\n",
    "    - пример 2 [MyDataset_test_after_4200/1.jpg](example/TextBPN-Plus-Plus/vis/MyDataset_test_after_4200/1.jpg)\n"
   ]
  },
  {
   "cell_type": "code",
   "execution_count": null,
   "metadata": {},
   "outputs": [],
   "source": []
  },
  {
   "cell_type": "markdown",
   "metadata": {},
   "source": [
    "## Используемые данные\n",
    "\n",
    "В процессе обучения использовался генератор изображений с размеченным текстом.\n",
    "Примеры изображений:\n",
    "\n",
    "|описание|изображение\n",
    "|-|-|\n",
    "|изображение с текстом имеющее<br>отступы и разный цвет текста|<img src='doc/ImageForPresentation/sample1.png' wight='300px'>|\n",
    "|смещение от начала координат|<img src='doc/ImageForPresentation/sample2.png' wight='300px'>|\n",
    "|различный фон|<img src='doc/ImageForPresentation/sample3.png' wight='300px'>|\n",
    "|различный шрифт|<img src='doc/ImageForPresentation/sample7.png' wight='300px'>|\n",
    "|различный размер изображения|<img src='doc/ImageForPresentation/sample4.png' wight='300px'>|\n",
    "|помехи в виде горизонтальных<br>или вертикальных линий|<img src='doc/ImageForPresentation/sample5.png' wight='300px'>|\n",
    "|использование больше текста|<img src='doc/ImageForPresentation/sample6.png' wight='300px'>|\n",
    "\n"
   ]
  },
  {
   "cell_type": "markdown",
   "metadata": {},
   "source": [
    "В качестве метрики валидации детекции текста будем использовать следующий подход:\n",
    "1. Высчитываем центр региона каждого текста на реальном\n",
    "2. \n"
   ]
  },
  {
   "cell_type": "markdown",
   "metadata": {},
   "source": []
  },
  {
   "cell_type": "markdown",
   "metadata": {},
   "source": []
  },
  {
   "cell_type": "markdown",
   "metadata": {},
   "source": []
  },
  {
   "cell_type": "markdown",
   "metadata": {},
   "source": [
    "Метрика для распознования символов\n",
    "\n",
    "$$CER = \\frac{S + D + I}{N} = \\frac{C + D + I}{S + D + C}$$\n",
    "\n",
    "где\n",
    "- $S$ - количество замен\n",
    "- $D$ - количество детекцей\n",
    "- $I$ - количество вставок\n",
    "- $C$ - количество корректных символов\n",
    "- $N$ - количество символов в ссылке???"
   ]
  }
 ],
 "metadata": {
  "kernelspec": {
   "display_name": "Python 3 (ipykernel)",
   "language": "python",
   "name": "python3"
  },
  "language_info": {
   "codemirror_mode": {
    "name": "ipython",
    "version": 3
   },
   "file_extension": ".py",
   "mimetype": "text/x-python",
   "name": "python",
   "nbconvert_exporter": "python",
   "pygments_lexer": "ipython3",
   "version": "3.9.12"
  },
  "vscode": {
   "interpreter": {
    "hash": "58d78f71de504bd4b03c65a70bc48880aedd0b66d9a293132d2983cd4432c6ac"
   }
  }
 },
 "nbformat": 4,
 "nbformat_minor": 4
}
