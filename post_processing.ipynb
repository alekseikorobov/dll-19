{
 "cells": [
  {
   "attachments": {},
   "cell_type": "markdown",
   "metadata": {},
   "source": [
    "### Сортировка блоков"
   ]
  },
  {
   "cell_type": "code",
   "execution_count": 1,
   "metadata": {},
   "outputs": [
    {
     "data": {
      "text/plain": [
       "[<matplotlib.lines.Line2D at 0x7fa54e2f3040>]"
      ]
     },
     "execution_count": 1,
     "metadata": {},
     "output_type": "execute_result"
    },
    {
     "data": {
      "image/png": "[encoded data removed]",
      "text/plain": [
       "<Figure size 432x288 with 1 Axes>"
      ]
     },
     "metadata": {
      "needs_background": "light"
     },
     "output_type": "display_data"
    }
   ],
   "source": [
    "import numpy as np\n",
    "import matplotlib.pyplot as plt\n",
    "import torch\n",
    "import cv2\n",
    "\n",
    "plt.plot([1])"
   ]
  },
  {
   "cell_type": "code",
   "execution_count": 40,
   "metadata": {},
   "outputs": [],
   "source": [
    "\n",
    "def drow_image_box(bboxs, size=(100,100), display_check = True):\n",
    "    img_torch = torch.ones(size=(size[0],size[1],3)) * 255\n",
    "    img_np = img_torch.numpy()\n",
    "    font = cv2.FONT_HERSHEY_SIMPLEX\n",
    "    fontScale = 0.5\n",
    "    color = (255, 0, 0)\n",
    "    thickness = 1\n",
    "    it = 0\n",
    "    for bbox_line in bboxs:\n",
    "        #print(f'{bbox_line=}')\n",
    "        for i,box in bbox_line:\n",
    "\n",
    "            # x = box[2] - ((box[2] - box[0])/2) - 4\n",
    "            # y = box[3]- ((box[3] - box[1])/2) + 6\n",
    "\n",
    "            x = box[0] # (box[2] + box[0])/2 - 4\n",
    "            y = (box[3] + box[1])/2 + 6\n",
    "            it += 1\n",
    "            org = (int(x), int(y))\n",
    "            text = f'{i}_{it}'\n",
    "            if not display_check:\n",
    "                text = f'{i}'\n",
    "                assert i == str(it), f'sort not correct {i=} {it=}' \n",
    "            img_np = cv2.putText(img_np,text,org, font, fontScale, color, thickness, cv2.LINE_AA)\n",
    "            img_np = cv2.rectangle(img_np,(box[0],box[1]),(box[2],box[3]),(0,0,155),1)\n",
    "    return img_np\n",
    "    #plt.plot([1])"
   ]
  },
  {
   "attachments": {},
   "cell_type": "markdown",
   "metadata": {},
   "source": [
    "### Добавление отступов от левого края"
   ]
  },
  {
   "cell_type": "code",
   "execution_count": 106,
   "metadata": {},
   "outputs": [
    {
     "name": "stderr",
     "output_type": "stream",
     "text": [
      "Clipping input data to the valid range for imshow with RGB data ([0..1] for floats or [0..255] for integers).\n"
     ]
    },
    {
     "data": {
      "image/png": "[encoded data removed]",
      "text/plain": [
       "<Figure size 432x288 with 1 Axes>"
      ]
     },
     "metadata": {
      "needs_background": "light"
     },
     "output_type": "display_data"
    }
   ],
   "source": [
    "import numpy as np \n",
    "import importlib\n",
    "import util.my_utils as m\n",
    "importlib.reload(m)\n",
    "import matplotlib.pyplot as plt\n",
    "from  util.my_utils import sorting_bounding_box, sorting_bounding_box_v2\n",
    "\n",
    "list_points = [\n",
    "    [ \n",
    "        ['2', [ 5+40,  5, 40+40, 20] ], #0\n",
    "        ['5', [ 5, 25+50, 40, 45+50] ], #3\n",
    "        ['3', [ 5+10, 25, 40+10, 45] ], #1\n",
    "        ['1', [ 5,  5, 40, 20] ], #0\n",
    "        ['4', [ 5+45, 25+25, 40+45, 45+25] ], #2\n",
    "    ],\n",
    "    [ \n",
    "        ['2', [ 5+40,  5, 40+40, 20] ], #0\n",
    "        ['5', [ 5, 25+50, 40, 45+50] ], #3\n",
    "        ['3', [ 5+10, 25, 40+10, 45] ], #1\n",
    "        ['1', [ 15,  15, 40, 20] ], #0\n",
    "        ['4', [ 5+45, 25+25, 40+45, 45+25] ], #2\n",
    "    ]\n",
    "    ,[\n",
    "        ['3', [ 0, 25, 20, 25+20] ], ['1', [ 0,  0, 20, 20] ], ['2', [ 0+30,  0, 20+30, 20] ],\n",
    "    ]\n",
    "    ,[ \n",
    "        ['2', [ 5+40,  5, 40+40, 20] ], #0\n",
    "        ['5', [ 5, 25+41, 40, 45+42] ], #3\n",
    "        ['3', [ 5+10, 25, 40+10, 45] ], #1\n",
    "        ['1', [ 15,  0, 40, 10] ], #0\n",
    "        ['4', [ 5+45, 25+24, 40+45, 45+25] ], #2\n",
    "    ]\n",
    "]\n",
    "\n",
    "\n",
    "img_np = None\n",
    "for points in list_points:\n",
    "    points = sorting_bounding_box_v2(points)\n",
    "    img_np = drow_image_box(points,display_check = False if 1 else True)\n",
    "#print(*points,sep='\\n')\n",
    "if img_np is not None:\n",
    "    plt.imshow(img_np)"
   ]
  }
 ],
 "metadata": {
  "kernelspec": {
   "display_name": "torch",
   "language": "python",
   "name": "python3"
  },
  "language_info": {
   "codemirror_mode": {
    "name": "ipython",
    "version": 3
   },
   "file_extension": ".py",
   "mimetype": "text/x-python",
   "name": "python",
   "nbconvert_exporter": "python",
   "pygments_lexer": "ipython3",
   "version": "3.8.10"
  },
  "orig_nbformat": 4,
  "vscode": {
   "interpreter": {
    "hash": "58d78f71de504bd4b03c65a70bc48880aedd0b66d9a293132d2983cd4432c6ac"
   }
  }
 },
 "nbformat": 4,
 "nbformat_minor": 2
}
