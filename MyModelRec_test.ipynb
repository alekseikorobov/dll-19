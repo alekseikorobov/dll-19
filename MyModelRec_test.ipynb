{
 "cells": [
  {
   "cell_type": "code",
   "execution_count": 47,
   "metadata": {},
   "outputs": [
    {
     "data": {
      "text/plain": [
       "[<matplotlib.lines.Line2D at 0x7fa223af88e0>]"
      ]
     },
     "execution_count": 47,
     "metadata": {},
     "output_type": "execute_result"
    },
    {
     "data": {
      "image/png": "[encoded data removed]",
      "text/plain": [
       "<Figure size 432x288 with 1 Axes>"
      ]
     },
     "metadata": {
      "needs_background": "light"
     },
     "output_type": "display_data"
    }
   ],
   "source": [
    "import matplotlib.pyplot as plt\n",
    "%matplotlib inline\n",
    "plt.plot([1])"
   ]
  },
  {
   "cell_type": "code",
   "execution_count": 48,
   "metadata": {},
   "outputs": [
    {
     "name": "stderr",
     "output_type": "stream",
     "text": [
      "100%|██████████| 4/4 [00:00<00:00, 3498.90it/s]\n",
      "Clipping input data to the valid range for imshow with RGB data ([0..1] for floats or [0..255] for integers).\n",
      "Clipping input data to the valid range for imshow with RGB data ([0..1] for floats or [0..255] for integers).\n"
     ]
    },
    {
     "name": "stdout",
     "output_type": "stream",
     "text": [
      "Loading from output/model_rec_text_best_scale_2/CRNN_LSTM_min_loss.pth\n",
      "len(dataset)=4\n",
      "txt_predict='from', txt_fact='from'\n",
      "txt_predict='select', txt_fact='select'\n"
     ]
    },
    {
     "name": "stderr",
     "output_type": "stream",
     "text": [
      "Clipping input data to the valid range for imshow with RGB data ([0..1] for floats or [0..255] for integers).\n",
      "Clipping input data to the valid range for imshow with RGB data ([0..1] for floats or [0..255] for integers).\n"
     ]
    },
    {
     "name": "stdout",
     "output_type": "stream",
     "text": [
      "txt_predict='*', txt_fact='*'\n",
      "txt_predict='[users]', txt_fact='[users]'\n"
     ]
    },
    {
     "data": {
      "image/png": "[encoded data removed]",
      "text/plain": [
       "<Figure size 432x288 with 1 Axes>"
      ]
     },
     "metadata": {
      "needs_background": "light"
     },
     "output_type": "display_data"
    }
   ],
   "source": [
    "import MyDatasetRec\n",
    "import importlib\n",
    "importlib.reload(MyDatasetRec)\n",
    "from MyDatasetRec import MyDatasetRec\n",
    "from torch.utils.data import DataLoader\n",
    "from config_rec import all_alph\n",
    "import MyModelRec as my_model\n",
    "import torch\n",
    "from itertools import groupby\n",
    "from MyRecognizer import Recognizer\n",
    "        \n",
    "conf = {\n",
    "    'fonts':[\"example/TextBPNPlusPlus/dataset/MyGenerator/font.ttf\"],\n",
    "    'is_crop':[True],\n",
    "    #'texts':['#$%^&*()py','-=~!@#$%', '()_+[];','[users]','(users)'],\n",
    "    'texts':['select','*', 'from','[users]'],\n",
    "    'size_images':[(160 ,32)] #cnn_output_width * 16 + 2\n",
    "    , 'text_colors':['#000000']\n",
    "    , 'background_colors':['#ffffff']\n",
    "    , 'is_simple_text':[True]\n",
    "    , 'font_sizes':[22]\n",
    "    , 'is_scale':[True]\n",
    "    , 'scale_size':[(None, 32)]\n",
    "}\n",
    "\n",
    "dataset = MyDatasetRec([conf], all_alph)\n",
    "\n",
    "#model_path = 'output/model_rec_/CRNN_LSTM_v1_130.pth'\n",
    "#model_path = 'output/model_rec_text_best_scale/CRNN_LSTM_min_loss.pth'\n",
    "model_path = 'output/model_rec_text_best_scale_1/CRNN_LSTM_min_loss.pth'\n",
    "#model_path = 'output/model_rec_best/CRNN_LSTM_min_loss.pth'\n",
    "#model_path = 'output/model_rec_/CRNN_LSTM_v1_130.pth'\n",
    "model_path = 'output/model_rec_text_best_scale_2/CRNN_LSTM_min_loss.pth'\n",
    "rec = Recognizer(model_path, all_alph)\n",
    "\n",
    "def correct_chars(text:str):\n",
    "    \n",
    "    #{'>>;.^$\", txt_fact='#$%^&*()'\n",
    "    #\"@#|)\\\\{'>\", txt_fact='-=~!@#$%'\n",
    "    #'^$~:/<%', txt_fact='()_+[];'\n",
    "    \n",
    "    #@#|)\\\\{'>\", txt_fact='-=~!@#$%'\n",
    "    return text.replace('/','[')\\\n",
    "               .replace(':','+')\n",
    "\n",
    "print(f'{len(dataset)=}')\n",
    "loader = DataLoader(dataset, batch_size=1, shuffle=False)\n",
    "for im, l in loader:\n",
    "    #print(f'{im.shape },{l.shape}')\n",
    "    txt_predict = rec.get_text_from_image(im)\n",
    "    txt_fact = dataset.torch_text_dict.get_label(l[0])\n",
    "    \n",
    "    #txt_predict = correct_chars(txt_predict)\n",
    "    \n",
    "    print(f'{txt_predict=}, {txt_fact=}')\n",
    "    plt.imshow(im[0].permute(1,2,0).numpy())\n",
    "plt.show()\n",
    "\n",
    "    "
   ]
  },
  {
   "attachments": {},
   "cell_type": "markdown",
   "metadata": {},
   "source": [
    "### Необходимо сделать датасет из тех же картинок, которые были на обучении детекции\n",
    "\n"
   ]
  },
  {
   "cell_type": "code",
   "execution_count": 50,
   "metadata": {},
   "outputs": [
    {
     "name": "stdout",
     "output_type": "stream",
     "text": [
      "img_np.shape=(13, 32, 3)\n",
      "img1.shape=(32, 78, 3)\n",
      "torch.Size([3, 32, 500])\n",
      "torch.Size([1, 3, 32, 500])\n",
      "txt='string'\n"
     ]
    },
    {
     "data": {
      "image/png": "[encoded data removed]",
      "text/plain": [
       "<PIL.Image.Image image mode=RGB size=78x32>"
      ]
     },
     "execution_count": 50,
     "metadata": {},
     "output_type": "execute_result"
    }
   ],
   "source": [
    "from torchvision.transforms import InterpolationMode\n",
    "import cv2\n",
    "import torchvision\n",
    "import numpy as np\n",
    "from PIL import Image, ImageColor, ImageDraw, ImageFilter, ImageFont\n",
    "img_np = np.load(f'for_rec_data/image_test/example_image_{1}.npy','r')\n",
    "print(f'{img_np.shape=}')\n",
    "\n",
    "\n",
    "img1 = rec.image_resize(img_np, width = None, height = 32)\n",
    "\n",
    "print(f'{img1.shape=}')\n",
    "\n",
    "img2 = Image.fromarray(img1)\n",
    "\n",
    "img_tensor,_=dataset.transforms(img2,None)\n",
    "\n",
    "print(img_tensor.shape)\n",
    "img_tensor = img_tensor.unsqueeze(0)\n",
    "print(img_tensor.shape)\n",
    "\n",
    "txt = rec.get_text_from_image(img_tensor)\n",
    "print(f'{txt=}')\n",
    "img2"
   ]
  },
  {
   "cell_type": "code",
   "execution_count": null,
   "metadata": {},
   "outputs": [],
   "source": [
    "# распознование картинки из тренировочного набора\n",
    "# не доведено до конца!!!!!!\n",
    "\n",
    "from config_rec import all_alph,train_conf\n",
    "import MyGenerator.ImageGenerator as im\n",
    "import importlib\n",
    "importlib.reload(im)\n",
    "from MyGenerator.ImageGenerator import ImageGenerator\n",
    "from MyRecognizer import Recognizer\n",
    "import torchmetrics\n",
    "\n",
    "#model_path = 'output/model_rec_text_best_scale/CRNN_LSTM_min_loss.pth'\n",
    "\n",
    "#rec = Recognizer(model_path, all_alph)\n",
    "\n",
    "train_conf = [{\n",
    "    'fonts':['example/TextBPNPlusPlus/dataset/MyGenerator/font.ttf'],\n",
    "    'is_crop':[True]\n",
    "    , 'text_colors':['#2C6DBF']\n",
    "    , 'background_colors':['#1E1E1E']\n",
    "    , 'texts':\n",
    "        \n",
    "        # array[0:350]\n",
    "        #list(map(str,np.random.random_integers(100,100000,100)))\n",
    "        #['12345678901234567890123456789012345678901234567890'] #14 epoch\n",
    "        #['deletedresponsiblepersonid'] #477 epoch\n",
    "        [\n",
    "            '0',\n",
    "            '01',\n",
    "            '012',\n",
    "            '0123',\n",
    "            '01234',\n",
    "            '012345',\n",
    "            '0123456',\n",
    "            '01234567',\n",
    "            '012345678',\n",
    "            '0123456789',\n",
    "            '01234567890',\n",
    "            '012345678901',\n",
    "            '0123456789012',\n",
    "            '01234567890123',\n",
    "            '012345678901234',\n",
    "            '0123456789012345',\n",
    "            '01234567890123456',\n",
    "            '012345678901234567',\n",
    "            '0123456789012345678',\n",
    "            '01234567890123456789',\n",
    "            '012345678901234567890'\n",
    "         ] #407 epoch\n",
    "    ,\n",
    "    #'size_images':[((int(153/16)+1)*16 +2 ,18)] #for cnn_output_width = 19\n",
    "    'size_images':[(160 ,32)] #cnn_output_width * 16 + 2\n",
    "    , 'is_simple_text':[True]\n",
    "    , 'font_sizes':[13]\n",
    "    , 'is_scale':[True]\n",
    "    , 'scale_size':[(None, 32)]\n",
    "}]\n",
    "\n",
    "im_gen = ImageGenerator(train_conf)\n",
    "\n",
    "print(f'{im_gen.size=}')\n",
    "print(f'{im_gen.size_word=}')\n",
    "\n",
    "_,axs = plt.subplots(im_gen.size_word,figsize=(5*im_gen.size_word,10))\n",
    "\n",
    "\n",
    "model_path = 'output/model_rec_text_best_scale_1/CRNN_LSTM_min_loss.pth'\n",
    "rec = Recognizer(model_path, all_alph)\n",
    "\n",
    "for i in range(im_gen.size_word):\n",
    "    img,text = im_gen.get_by_word_index(i)\n",
    "    img_tensor,t = transform(img,None)\n",
    "    text_res = rec.get_text_from_image(img_tensor.unsqueeze(0))\n",
    "    print(f'{text=} {text_res=}')\n",
    "    axs[i].set_yticks([])\n",
    "    axs[i].set_xticks([])\n",
    "    axs[i].imshow(img)\n",
    "plt.show()\n",
    "\n",
    "\n",
    "\n",
    "\n",
    "# #cer = torchmetrics.CharErrorRate()\n",
    "# #print(cer(text, 'abc56767') )\n",
    "\n",
    "\n",
    "# plt.imshow(img)\n",
    "# plt.show()\n",
    "\n"
   ]
  },
  {
   "attachments": {},
   "cell_type": "markdown",
   "metadata": {},
   "source": [
    "### Теперь проверка на реальной картинке"
   ]
  },
  {
   "cell_type": "code",
   "execution_count": 51,
   "metadata": {},
   "outputs": [],
   "source": [
    "def image_resize(image:np.ndarray, width = None, height = None, inter = cv2.INTER_AREA):\n",
    "    # initialize the dimensions of the image to be resized and\n",
    "    # grab the image size\n",
    "    dim = None\n",
    "    (h, w) = image.shape[:2]\n",
    "\n",
    "    # if both the width and height are None, then return the\n",
    "    # original image\n",
    "    if width is None and height is None:\n",
    "        return image\n",
    "\n",
    "    # check to see if the width is None\n",
    "    if width is None:\n",
    "        # calculate the ratio of the height and construct the\n",
    "        # dimensions\n",
    "        r = height / float(h)\n",
    "        dim = (int(w * r), height)\n",
    "\n",
    "    # otherwise, the height is None\n",
    "    else:\n",
    "        # calculate the ratio of the width and construct the\n",
    "        # dimensions\n",
    "        r = width / float(w)\n",
    "        dim = (width, int(h * r))\n",
    "\n",
    "    # resize the image\n",
    "    resized = cv2.resize(image, dim, interpolation = inter)\n",
    "\n",
    "    # return the resized image\n",
    "    return resized"
   ]
  },
  {
   "cell_type": "code",
   "execution_count": 52,
   "metadata": {},
   "outputs": [
    {
     "name": "stdout",
     "output_type": "stream",
     "text": [
      "txt='get'\n",
      "txt='пchgnge>'\n",
      "txt='chenges'\n",
      "txt='{'\n",
      "txt='stuing'\n",
      "txt='lastuzl'\n",
      "txt='шsещйг;'\n",
      "txt='get'\n",
      "txt='pzqtected'\n",
      "txt=');'\n",
      "txt='o'\n",
      "txt='ueatedn;'\n",
      "txt='='\n",
      "txt='o'\n",
      "txt='виндт'\n",
      "txt='!'\n",
      "txt='оctng='\n",
      "txt='}'\n",
      "txt='login;'\n",
      "txt=':'\n",
      "txt='оежсвдиоnв-'\n",
      "txt='autuorgocenge'\n",
      "txt='{'\n",
      "txt='fnt'\n",
      "txt='есырtртmы-'\n",
      "txt='liferime;'\n",
      "txt='login;'\n",
      "txt='octng='\n",
      "txt='ochanges'\n",
      "txt='!'\n",
      "txt='тve'\n",
      "txt='{'\n",
      "txt=')}'\n",
      "txt='оеазрtрnы'\n",
      "txt='}'\n",
      "txt='{'\n",
      "txt='stuing'\n",
      "txt='session!nfo'\n",
      "txt='cueatedn'\n",
      "txt='тve'\n",
      "txt='пвинд'\n",
      "txt='ваseentity'\n",
      "txt='puotected'\n",
      "txt='sthing'\n",
      "txt='--'\n",
      "txt='}'\n",
      "txt='qautuorx'\n",
      "txt='sthing'\n",
      "txt='wetun'\n",
      "txt='!'\n",
      "txt='oreerenaes'\n",
      "txt='usедйр'\n",
      "txt='set'\n",
      "txt='{'\n",
      "txt='paterime'\n",
      "txt='togin'\n",
      "txt='wetun'\n",
      "txt='pzqtected'\n",
      "txt='пchgnge>'\n",
      "txt='public'\n",
      "txt='public'\n",
      "txt='last+ccessbate;'\n",
      "txt='etng='\n",
      "txt='qet'\n",
      "txt='ore=et-'\n",
      "txt='='\n",
      "txt='set'\n",
      "txt='login'\n",
      "txt=']'\n",
      "txt='pzotected'\n",
      "txt='шsедйр'\n",
      "txt='}'\n",
      "txt='pzotected'\n",
      "txt='sthing'\n",
      "txt='!'\n",
      "txt='set'\n",
      "txt='public'\n",
      "txt=']'\n",
      "txt='ueated0n'\n",
      "txt='vauue;'\n",
      "txt='paterime'\n",
      "txt='usezzp;'\n",
      "txt='тve'\n",
      "txt='vauue;'\n",
      "txt='иetuhn'\n",
      "txt='public'\n",
      "txt='paterime'\n",
      "txt='='\n",
      "txt='}'\n",
      "txt=');'\n",
      "txt='vauue;'\n",
      "txt='cvuass'\n",
      "txt='{'\n",
      "txt='}'\n",
      "txt='pgotected'\n",
      "txt='oreerenaes'\n",
      "txt='оetпz='\n",
      "txt='oreerenee>'\n",
      "txt='cueated0n;'\n",
      "txt='{'\n"
     ]
    }
   ],
   "source": [
    "import os\n",
    "\n",
    "from torchvision.transforms import InterpolationMode\n",
    "import cv2\n",
    "import torchvision\n",
    "import numpy as np\n",
    "from PIL import Image, ImageColor, ImageDraw, ImageFilter, ImageFont\n",
    "\n",
    "arr = os.listdir('for_rec_data/image_real')\n",
    "for file in arr:\n",
    "    img_np = np.load('for_rec_data/image_real/'+file,'r')\n",
    "    #print(f'{img_np.shape=}')\n",
    "    img1 = image_resize(img_np, width = None, height = 32)\n",
    "    #print(f'{img1.shape=}')\n",
    "    img2 = Image.fromarray(img1)\n",
    "    img_tensor,_=dataset.transforms(img2,None)\n",
    "    #print(img_tensor.shape)\n",
    "    img_tensor = img_tensor.unsqueeze(0)\n",
    "    #print(img_tensor.shape)\n",
    "    txt = rec.get_text_from_image(img_tensor)\n",
    "    print(f'{txt=}')\n",
    "    #img2\n",
    "\n",
    "\n",
    "\n",
    "\n",
    "#for file in arr:"
   ]
  }
 ],
 "metadata": {
  "kernelspec": {
   "display_name": "ml",
   "language": "python",
   "name": "python3"
  },
  "language_info": {
   "codemirror_mode": {
    "name": "ipython",
    "version": 3
   },
   "file_extension": ".py",
   "mimetype": "text/x-python",
   "name": "python",
   "nbconvert_exporter": "python",
   "pygments_lexer": "ipython3",
   "version": "3.8.10"
  },
  "orig_nbformat": 4
 },
 "nbformat": 4,
 "nbformat_minor": 2
}
