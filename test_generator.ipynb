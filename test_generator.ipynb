{
 "cells": [
  {
   "cell_type": "markdown",
   "metadata": {},
   "source": [
    "# Тестирование генерации изображений с текстом и контуром"
   ]
  },
  {
   "cell_type": "markdown",
   "metadata": {},
   "source": [
    "#### параметры для генерация текста:\n",
    "- размер\n",
    "- положение\n",
    "- шрифт\n",
    "- цвет\n",
    "- жирность\n",
    "- курсив\n",
    "- фон\n",
    "- четкость/размытость\n",
    "- поворт (опционально)\n",
    "- присутствие дополнительных икнок\n",
    "- присутствие дополнительных картинок\n",
    "- присутствие сдвигов, дополнительных пробелов\n",
    "- регистр"
   ]
  },
  {
   "cell_type": "code",
   "execution_count": 2,
   "metadata": {},
   "outputs": [],
   "source": [
    "\n"
   ]
  },
  {
   "cell_type": "code",
   "execution_count": 2,
   "metadata": {},
   "outputs": [
    {
     "name": "stdout",
     "output_type": "stream",
     "text": [
      "all images - 60\n",
      "text_height=22\n",
      "box=x1:20,y1:40,x2:131,y2:62\n",
      "\n"
     ]
    },
    {
     "data": {
      "image/png": "[encoded data removed]",
      "text/plain": [
       "<Figure size 432x288 with 1 Axes>"
      ]
     },
     "metadata": {
      "needs_background": "light"
     },
     "output_type": "display_data"
    },
    {
     "name": "stdout",
     "output_type": "stream",
     "text": [
      "text_height=22\n",
      "box=x1:20,y1:40,x2:131,y2:62\n",
      "\n"
     ]
    },
    {
     "data": {
      "image/png": "[encoded data removed]",
      "text/plain": [
       "<Figure size 432x288 with 1 Axes>"
      ]
     },
     "metadata": {
      "needs_background": "light"
     },
     "output_type": "display_data"
    }
   ],
   "source": [
    "import matplotlib.pyplot as plt\n",
    "import cv2\n",
    "import numpy as np\n",
    "from MyGenerator.ImageGenerator import ImageGenerator\n",
    "# conf = {\n",
    "#     'fonts':['TextRecognitionDataGenerator/tests/font.ttf']\n",
    "#     , 'texts':['Привет Мир!!!!\\nПока мир!\\nввв','dfdsfsd']\n",
    "#     , 'text_colors':['#00ffff','#ff0000']\n",
    "#     , 'size_images':[(280,280)]\n",
    "#     , 'position_texts':[(20,40),(2,4),(40,50)]\n",
    "#     , 'font_sizes':[32]\n",
    "#     , 'background_colors':['#000000','#ffffff']\n",
    "# }\n",
    "conf_train = {\n",
    "        'fonts':['TextRecognitionDataGenerator/tests/font.ttf']\n",
    "        , 'texts':['Привет Мир!!!!']\n",
    "        , 'text_colors':['#00ffff','#ff0000','#ffff00']\n",
    "        , 'size_images':[(280,280),(512,512)]\n",
    "        , 'position_texts':[(20,40),(2,4),(10,4),(4,10),(40,50)]\n",
    "        , 'font_sizes':[16]\n",
    "        , 'background_colors':['#000000','#ffffff']\n",
    "    }\n",
    "\n",
    "i = ImageGenerator(conf_train)\n",
    "\n",
    "print(f'all images - {i.size}')\n",
    "\n",
    "for idx in range(0,(2 if i.size > 2 else i.size)):\n",
    "    img, boxs = i.get_by_index(idx)    \n",
    "    for box in boxs:\n",
    "        print(f'{box=}')\n",
    "        p1,p2 = box.get_p1_p2()\n",
    "        img = cv2.rectangle(np.asarray(img),p1,p2,(255,0,0))\n",
    "\n",
    "    plt.imshow(img)\n",
    "    plt.show()"
   ]
  },
  {
   "cell_type": "code",
   "execution_count": null,
   "metadata": {},
   "outputs": [],
   "source": []
  },
  {
   "cell_type": "code",
   "execution_count": 70,
   "metadata": {},
   "outputs": [
    {
     "name": "stdout",
     "output_type": "stream",
     "text": [
      "self.all_param_list 1\n",
      "get_word_formated_list...\n"
     ]
    },
    {
     "name": "stderr",
     "output_type": "stream",
     "text": [
      "1it [00:00, 905.51it/s]"
     ]
    },
    {
     "name": "stdout",
     "output_type": "stream",
     "text": [
      "get_max_pix_size...\n",
      "get_max_pix_size_from_param...\n",
      "img.size=(128, 32)\n"
     ]
    },
    {
     "name": "stderr",
     "output_type": "stream",
     "text": [
      "\n"
     ]
    },
    {
     "data": {
      "image/png": "[encoded data removed]",
      "text/plain": [
       "<PIL.Image.Image image mode=RGB size=128x32>"
      ]
     },
     "execution_count": 70,
     "metadata": {},
     "output_type": "execute_result"
    }
   ],
   "source": [
    "import MyGenerator.ImageGenerator as im\n",
    "import importlib\n",
    "importlib.reload(im)\n",
    "from MyGenerator.ImageGenerator import ImageGenerator\n",
    "\n",
    "\n",
    "i = ImageGenerator([{\n",
    "    #\"fonts\":\"example/TextBPNPlusPlus/dataset/MyGenerator/font.ttf\"\n",
    "    'fonts':[\"example/TextBPNPlusPlus/dataset/MyGenerator/font.ttf\"],\n",
    "    'is_crop':[True],\n",
    "    'texts':[\n",
    "        '''01234567'''\n",
    "    ]\n",
    "    ,'size_images':[(160 ,32)] #cnn_output_width * 16 + 2\n",
    "    ,'scale_size':[(160,32)]\n",
    "    ,'is_scale':[True]\n",
    "}])\n",
    "\n",
    "img,texts = i.get_by_word_index(0)\n",
    "print(f'{img.size=}') #img.size=(49, 18)\n",
    "img\n"
   ]
  }
 ],
 "metadata": {
  "kernelspec": {
   "display_name": "torch",
   "language": "python",
   "name": "python3"
  },
  "language_info": {
   "codemirror_mode": {
    "name": "ipython",
    "version": 3
   },
   "file_extension": ".py",
   "mimetype": "text/x-python",
   "name": "python",
   "nbconvert_exporter": "python",
   "pygments_lexer": "ipython3",
   "version": "3.8.10"
  },
  "orig_nbformat": 4,
  "vscode": {
   "interpreter": {
    "hash": "58d78f71de504bd4b03c65a70bc48880aedd0b66d9a293132d2983cd4432c6ac"
   }
  }
 },
 "nbformat": 4,
 "nbformat_minor": 2
}
